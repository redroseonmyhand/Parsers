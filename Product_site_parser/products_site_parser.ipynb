{
 "cells": [
  {
   "cell_type": "code",
   "execution_count": 569,
   "id": "4ff948aa",
   "metadata": {},
   "outputs": [],
   "source": [
    "from bs4 import BeautifulSoup\n",
    "import requests\n",
    "import json\n",
    "import io\n",
    "import pandas as pd\n",
    "from requests.adapters import HTTPAdapter\n",
    "from urllib3.util.retry import Retry"
   ]
  },
  {
   "cell_type": "code",
   "execution_count": 570,
   "id": "e252424f",
   "metadata": {},
   "outputs": [],
   "source": [
    "retry = Retry(connect=3, backoff_factor=0.5)\n",
    "adapter = HTTPAdapter(max_retries=retry)\n",
    "session = requests.Session()\n",
    "session.mount('http://', adapter)\n",
    "session.mount('https://', adapter)\n",
    "main_page_url = 'https://health-diet.ru/table_calorie/?utm_source=leftMenu&utm_medium=table_calorie'\n",
    "most_main_url = 'https://health-diet.ru'\n",
    "main_page_response = requests.get(main_page_url)\n",
    "main_page_src = main_page_response.text"
   ]
  },
  {
   "cell_type": "code",
   "execution_count": 20,
   "id": "67a88bd7",
   "metadata": {},
   "outputs": [],
   "source": [
    "#with io.open(\"index.html\", \"w\", encoding=\"utf-8\") as file:\n",
    " #   file.write(main_page_src)"
   ]
  },
  {
   "cell_type": "code",
   "execution_count": 571,
   "id": "ac61c086",
   "metadata": {},
   "outputs": [],
   "source": [
    "with io.open(\"index.html\", encoding=\"utf-8\") as file:\n",
    "    main_page_src = file.read()"
   ]
  },
  {
   "cell_type": "code",
   "execution_count": 572,
   "id": "d761b525",
   "metadata": {},
   "outputs": [],
   "source": [
    "main_page_soup = BeautifulSoup(main_page_src)"
   ]
  },
  {
   "cell_type": "markdown",
   "id": "db0f0b5e",
   "metadata": {},
   "source": [
    "**Список ссылок и словарь (категория - ссылка) на страницы с товарами:**"
   ]
  },
  {
   "cell_type": "code",
   "execution_count": 573,
   "id": "a9e8144f",
   "metadata": {},
   "outputs": [],
   "source": [
    "categories = main_page_soup.find_all(\"div\", class_ = \"uk-grid uk-grid-medium\")\n",
    "products_url_lst = []\n",
    "products_lst = []\n",
    "for i in range(len(categories)-1):\n",
    "    for j in categories[i].find_all(\"a\"):\n",
    "        products_lst.append(j.text)\n",
    "        products_url_lst.append(j.get(\"href\"))\n",
    "prod_url_dict = dict(zip(products_lst, products_url_lst))\n",
    "for i in products_lst:\n",
    "    prod_url_dict[i] = most_main_url + prod_url_dict[i]\n",
    "prod_url_dict[\"Полуфабрикаты\"] = 'https://health-diet.ru/base_of_food/food_21253/'"
   ]
  },
  {
   "cell_type": "markdown",
   "id": "2aa5a311",
   "metadata": {},
   "source": [
    "**Импорируем словарь в json**"
   ]
  },
  {
   "cell_type": "code",
   "execution_count": 135,
   "id": "97b2a114",
   "metadata": {},
   "outputs": [],
   "source": [
    "#with io.open(\"cats_links.json\", \"w\", encoding=\"utf-8\") as file:\n",
    "#    json.dump(prod_url_dict, file, indent = 4, ensure_ascii = False)"
   ]
  },
  {
   "cell_type": "markdown",
   "id": "8b39ba7f",
   "metadata": {},
   "source": [
    "**Получаем полный словарь данных (далее на всякий случаем сохраняем в json):**"
   ]
  },
  {
   "cell_type": "code",
   "execution_count": 574,
   "id": "787636af",
   "metadata": {},
   "outputs": [],
   "source": [
    "prod_url_dict_new = prod_url_dict\n",
    "for i in prod_url_dict_new:\n",
    "    cat_page_soup_1 = BeautifulSoup(session.get(prod_url_dict_new[i]).text)\n",
    "    lst_data = []\n",
    "    sku_lst = []\n",
    "    cal_lst = []\n",
    "    protein_lst = []\n",
    "    fats_lst = []\n",
    "    carb_lst = []\n",
    "    for j in cat_page_soup_1.find(\"body\").find_all(\"td\"):\n",
    "        lst_data.append(j.text.strip())\n",
    "    for j in range(len(lst_data)-1):\n",
    "        if j % 5 == 0:\n",
    "            sku_lst.append(lst_data[j])\n",
    "    for j in range(1, len(lst_data)-1, 5):\n",
    "        cal_lst.append(lst_data[j])\n",
    "    for j in range(2, len(lst_data)-1, 5):\n",
    "        protein_lst.append(lst_data[j])\n",
    "    for j in range(3, len(lst_data)-1, 5):\n",
    "        fats_lst.append(lst_data[j])\n",
    "    for j in range(4, len(lst_data)-1, 5):\n",
    "        carb_lst.append(lst_data[j])\n",
    "    one_cat_dict_new = dict(zip(sku_lst, list(zip(cal_lst, protein_lst, fats_lst, carb_lst))))\n",
    "    prod_url_dict_new[i] = one_cat_dict_new\n",
    "for i in prod_url_dict_new:\n",
    "    prod_url_dict_new[i].pop(\"СБАЛАНСИРОВАННАЯ МЕТОДИКА СНИЖЕНИЯ ВЕСА\")\n",
    "    prod_url_dict_new[i].pop(\"Дневник питания\\nКонтролируйте своё питание и\\nприобретайте полезные привычки\")"
   ]
  },
  {
   "cell_type": "code",
   "execution_count": 411,
   "id": "faba3767",
   "metadata": {},
   "outputs": [],
   "source": [
    "#with io.open(\"all_data.json\", \"w\", encoding=\"utf-8\") as file:\n",
    "    #json.dump(prod_url_dict_new, file, indent = 4, ensure_ascii = False)"
   ]
  },
  {
   "cell_type": "markdown",
   "id": "d29e5a10",
   "metadata": {},
   "source": [
    "**Получаем почти полную таблицу данных (не хватает категории товара):**"
   ]
  },
  {
   "cell_type": "code",
   "execution_count": 575,
   "id": "4c3c0a83",
   "metadata": {},
   "outputs": [],
   "source": [
    "data = pd.DataFrame()\n",
    "data[\"calory\"] = []\n",
    "data[\"protein\"] = []\n",
    "data[\"fats\"] = []\n",
    "data[\"carbohydrates\"] = []\n",
    "temp_lst = []\n",
    "for i in prod_url_dict_new:\n",
    "    for j in prod_url_dict_new[i]:\n",
    "        temp_lst.append(list(prod_url_dict_new[i][j]))\n",
    "for i in temp_lst:\n",
    "    data.loc[len(data)] = i\n",
    "prod_lst = [] \n",
    "for i in prod_url_dict_new:\n",
    "    for j in prod_url_dict_new[i]:\n",
    "        prod_lst.append(j)\n",
    "data[\"products\"] = prod_lst\n",
    "data = data[[\"products\", \"calory\", \"protein\", \"fats\", \"carbohydrates\"]]\n",
    "data = data.drop_duplicates(subset = 'products')"
   ]
  },
  {
   "cell_type": "markdown",
   "id": "6ff98962",
   "metadata": {},
   "source": [
    "**Получаем финальную таблицу:**"
   ]
  },
  {
   "cell_type": "code",
   "execution_count": 576,
   "id": "bd01b2bf",
   "metadata": {},
   "outputs": [
    {
     "data": {
      "text/html": [
       "<div>\n",
       "<style scoped>\n",
       "    .dataframe tbody tr th:only-of-type {\n",
       "        vertical-align: middle;\n",
       "    }\n",
       "\n",
       "    .dataframe tbody tr th {\n",
       "        vertical-align: top;\n",
       "    }\n",
       "\n",
       "    .dataframe thead th {\n",
       "        text-align: right;\n",
       "    }\n",
       "</style>\n",
       "<table border=\"1\" class=\"dataframe\">\n",
       "  <thead>\n",
       "    <tr style=\"text-align: right;\">\n",
       "      <th></th>\n",
       "      <th>category</th>\n",
       "      <th>products</th>\n",
       "      <th>calory</th>\n",
       "      <th>protein</th>\n",
       "      <th>fats</th>\n",
       "      <th>carbohydrates</th>\n",
       "    </tr>\n",
       "  </thead>\n",
       "  <tbody>\n",
       "    <tr>\n",
       "      <th>0</th>\n",
       "      <td>Баранина и дичь</td>\n",
       "      <td>Антилопа</td>\n",
       "      <td>114 кКал</td>\n",
       "      <td>22,38 г</td>\n",
       "      <td>2,03 г</td>\n",
       "      <td>2,03 г</td>\n",
       "    </tr>\n",
       "    <tr>\n",
       "      <th>1</th>\n",
       "      <td>Баранина и дичь</td>\n",
       "      <td>Антилопа, запеченная</td>\n",
       "      <td>150 кКал</td>\n",
       "      <td>29,45 г</td>\n",
       "      <td>2,67 г</td>\n",
       "      <td>2,67 г</td>\n",
       "    </tr>\n",
       "    <tr>\n",
       "      <th>2</th>\n",
       "      <td>Баранина и дичь</td>\n",
       "      <td>Баранина 1 кат.</td>\n",
       "      <td>209 кКал</td>\n",
       "      <td>15,6 г</td>\n",
       "      <td>16,3 г</td>\n",
       "      <td>16,3 г</td>\n",
       "    </tr>\n",
       "    <tr>\n",
       "      <th>3</th>\n",
       "      <td>Баранина и дичь</td>\n",
       "      <td>Баранина 2 кат.</td>\n",
       "      <td>166 кКал</td>\n",
       "      <td>19,8 г</td>\n",
       "      <td>9,6 г</td>\n",
       "      <td>9,6 г</td>\n",
       "    </tr>\n",
       "    <tr>\n",
       "      <th>4</th>\n",
       "      <td>Баранина и дичь</td>\n",
       "      <td>Баранина австралийская ,голяшка, мясо и жир, о...</td>\n",
       "      <td>231 кКал</td>\n",
       "      <td>25,25 г</td>\n",
       "      <td>13,69 г</td>\n",
       "      <td>13,69 г</td>\n",
       "    </tr>\n",
       "    <tr>\n",
       "      <th>...</th>\n",
       "      <td>...</td>\n",
       "      <td>...</td>\n",
       "      <td>...</td>\n",
       "      <td>...</td>\n",
       "      <td>...</td>\n",
       "      <td>...</td>\n",
       "    </tr>\n",
       "    <tr>\n",
       "      <th>8389</th>\n",
       "      <td>Соусы и заправки</td>\n",
       "      <td>Соус универсальный</td>\n",
       "      <td>211,1 кКал</td>\n",
       "      <td>8,8 г</td>\n",
       "      <td>17,8 г</td>\n",
       "      <td>17,8 г</td>\n",
       "    </tr>\n",
       "    <tr>\n",
       "      <th>8390</th>\n",
       "      <td>Соусы и заправки</td>\n",
       "      <td>Соус хрен (со сметаной)</td>\n",
       "      <td>217,7 кКал</td>\n",
       "      <td>3,1 г</td>\n",
       "      <td>19,3 г</td>\n",
       "      <td>19,3 г</td>\n",
       "    </tr>\n",
       "    <tr>\n",
       "      <th>8391</th>\n",
       "      <td>Соусы и заправки</td>\n",
       "      <td>Творожный майонез</td>\n",
       "      <td>290,3 кКал</td>\n",
       "      <td>7,6 г</td>\n",
       "      <td>26,7 г</td>\n",
       "      <td>26,7 г</td>\n",
       "    </tr>\n",
       "    <tr>\n",
       "      <th>8392</th>\n",
       "      <td>Соусы и заправки</td>\n",
       "      <td>Хлебный соус</td>\n",
       "      <td>81,8 кКал</td>\n",
       "      <td>1,4 г</td>\n",
       "      <td>7,1 г</td>\n",
       "      <td>7,1 г</td>\n",
       "    </tr>\n",
       "    <tr>\n",
       "      <th>8393</th>\n",
       "      <td>Соусы и заправки</td>\n",
       "      <td>Яично-масляный соус</td>\n",
       "      <td>321 кКал</td>\n",
       "      <td>3 г</td>\n",
       "      <td>34,1 г</td>\n",
       "      <td>34,1 г</td>\n",
       "    </tr>\n",
       "  </tbody>\n",
       "</table>\n",
       "<p>8394 rows × 6 columns</p>\n",
       "</div>"
      ],
      "text/plain": [
       "              category                                           products  \\\n",
       "0      Баранина и дичь                                           Антилопа   \n",
       "1      Баранина и дичь                               Антилопа, запеченная   \n",
       "2      Баранина и дичь                                    Баранина 1 кат.   \n",
       "3      Баранина и дичь                                    Баранина 2 кат.   \n",
       "4      Баранина и дичь  Баранина австралийская ,голяшка, мясо и жир, о...   \n",
       "...                ...                                                ...   \n",
       "8389  Соусы и заправки                                 Соус универсальный   \n",
       "8390  Соусы и заправки                            Соус хрен (со сметаной)   \n",
       "8391  Соусы и заправки                                  Творожный майонез   \n",
       "8392  Соусы и заправки                                       Хлебный соус   \n",
       "8393  Соусы и заправки                                Яично-масляный соус   \n",
       "\n",
       "          calory  protein     fats carbohydrates  \n",
       "0       114 кКал  22,38 г   2,03 г        2,03 г  \n",
       "1       150 кКал  29,45 г   2,67 г        2,67 г  \n",
       "2       209 кКал   15,6 г   16,3 г        16,3 г  \n",
       "3       166 кКал   19,8 г    9,6 г         9,6 г  \n",
       "4       231 кКал  25,25 г  13,69 г       13,69 г  \n",
       "...          ...      ...      ...           ...  \n",
       "8389  211,1 кКал    8,8 г   17,8 г        17,8 г  \n",
       "8390  217,7 кКал    3,1 г   19,3 г        19,3 г  \n",
       "8391  290,3 кКал    7,6 г   26,7 г        26,7 г  \n",
       "8392   81,8 кКал    1,4 г    7,1 г         7,1 г  \n",
       "8393    321 кКал      3 г   34,1 г        34,1 г  \n",
       "\n",
       "[8394 rows x 6 columns]"
      ]
     },
     "execution_count": 576,
     "metadata": {},
     "output_type": "execute_result"
    }
   ],
   "source": [
    "lst_i = []\n",
    "lst_j = []\n",
    "for i in prod_url_dict_new:\n",
    "    for j in prod_url_dict_new[i]:\n",
    "        lst_i.append(i)\n",
    "        lst_j.append(j)\n",
    "df2 = pd.DataFrame()\n",
    "df2[\"category\"] = lst_i\n",
    "df2[\"products\"] = lst_j\n",
    "data = data.merge(df2, how = 'left')\n",
    "data = data[[\"category\", \"products\", \"calory\", \"protein\", \"fats\", \"carbohydrates\"]]\n",
    "data"
   ]
  },
  {
   "cell_type": "code",
   "execution_count": null,
   "id": "453e662d",
   "metadata": {},
   "outputs": [],
   "source": []
  }
 ],
 "metadata": {
  "kernelspec": {
   "display_name": "Python 3 (ipykernel)",
   "language": "python",
   "name": "python3"
  },
  "language_info": {
   "codemirror_mode": {
    "name": "ipython",
    "version": 3
   },
   "file_extension": ".py",
   "mimetype": "text/x-python",
   "name": "python",
   "nbconvert_exporter": "python",
   "pygments_lexer": "ipython3",
   "version": "3.9.13"
  }
 },
 "nbformat": 4,
 "nbformat_minor": 5
}
